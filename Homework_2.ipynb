{
  "cells": [
    {
      "cell_type": "markdown",
      "metadata": {
        "id": "view-in-github",
        "colab_type": "text"
      },
      "source": [
        "<a href=\"https://colab.research.google.com/github/GoryachevDaniil/python_for_data_analysis/blob/main/Homework_2.ipynb\" target=\"_parent\"><img src=\"https://colab.research.google.com/assets/colab-badge.svg\" alt=\"Open In Colab\"/></a>"
      ]
    },
    {
      "cell_type": "markdown",
      "metadata": {
        "toc": true,
        "id": "vXRWAzocV_KF"
      },
      "source": [
        "<h1>Table of Contents<span class=\"tocSkip\"></span></h1>\n",
        "<div class=\"toc\"><ul class=\"toc-item\"><li><span><a href=\"#-Homework-2-(Topics-5-7:-Groupby,-Merge,-Visualization)\" data-toc-modified-id=\"-Homework-2-(Topics-5-7:-Groupby,-Merge,-Visualization)-1\"><span class=\"toc-item-num\">1&nbsp;&nbsp;</span><center> Homework 2 (Topics 5-7: Groupby, Merge, Visualization)</center></a></span><ul class=\"toc-item\"><li><ul class=\"toc-item\"><li><ul class=\"toc-item\"><li><span><a href=\"#Task-0.\" data-toc-modified-id=\"Task-0.-1.0.0.1\"><span class=\"toc-item-num\">1.0.0.1&nbsp;&nbsp;</span>Task 0.</a></span></li><li><span><a href=\"#Task-1.\" data-toc-modified-id=\"Task-1.-1.0.0.2\"><span class=\"toc-item-num\">1.0.0.2&nbsp;&nbsp;</span>Task 1.</a></span></li><li><span><a href=\"#Task-2:\" data-toc-modified-id=\"Task-2:-1.0.0.3\"><span class=\"toc-item-num\">1.0.0.3&nbsp;&nbsp;</span>Task 2:</a></span></li><li><span><a href=\"#Task-3:\" data-toc-modified-id=\"Task-3:-1.0.0.4\"><span class=\"toc-item-num\">1.0.0.4&nbsp;&nbsp;</span>Task 3:</a></span></li><li><span><a href=\"#Task-4:\" data-toc-modified-id=\"Task-4:-1.0.0.5\"><span class=\"toc-item-num\">1.0.0.5&nbsp;&nbsp;</span>Task 4:</a></span></li><li><span><a href=\"#Task-5:\" data-toc-modified-id=\"Task-5:-1.0.0.6\"><span class=\"toc-item-num\">1.0.0.6&nbsp;&nbsp;</span>Task 5:</a></span></li><li><span><a href=\"#Вопросы:\" data-toc-modified-id=\"Вопросы:-1.0.0.7\"><span class=\"toc-item-num\">1.0.0.7&nbsp;&nbsp;</span>Вопросы:</a></span></li><li><span><a href=\"#Task-6:\" data-toc-modified-id=\"Task-6:-1.0.0.8\"><span class=\"toc-item-num\">1.0.0.8&nbsp;&nbsp;</span>Task 6:</a></span></li><li><span><a href=\"#Вопросы:\" data-toc-modified-id=\"Вопросы:-1.0.0.9\"><span class=\"toc-item-num\">1.0.0.9&nbsp;&nbsp;</span>Вопросы:</a></span></li></ul></li></ul></li></ul></li></ul></div>"
      ]
    },
    {
      "cell_type": "markdown",
      "metadata": {
        "id": "UENRCxp7V_KJ"
      },
      "source": [
        "# <center> Homework 2 (Topics 5-7: Groupby, Merge, Visualization)"
      ]
    },
    {
      "cell_type": "code",
      "execution_count": 1,
      "metadata": {
        "ExecuteTime": {
          "end_time": "2020-04-23T10:26:06.303166Z",
          "start_time": "2020-04-23T10:26:05.458848Z"
        },
        "id": "JqFVkKDkV_KK"
      },
      "outputs": [],
      "source": [
        "# !pip install seaborn\n",
        "\n",
        "import pandas as pd\n",
        "import numpy as np\n",
        "import matplotlib.pyplot as plt\n",
        "import seaborn as sns\n",
        "%matplotlib inline                 \n",
        "# устанавливает серверную часть matplotlib в серверную часть 'inline' :\n",
        "# %matplotlib notebook             ## активирует серверную часть nbagg, которая обеспечивает интерактивность.\n",
        "pd.options.mode.chained_assignment = None  # default='warn'\n",
        "pd.options.display.max_rows=10"
      ]
    },
    {
      "cell_type": "markdown",
      "metadata": {
        "id": "mo7_88jPV_KL"
      },
      "source": [
        "Ещё раз (как и в задании 1) считайте в переменные tr_mcc_codes, tr_types, transactions и customers_gender_train. В transactions опять считайте только первые 1000000 строк."
      ]
    },
    {
      "cell_type": "code",
      "source": [
        "from google.colab import drive\n",
        "drive.mount('/content/drive')\n",
        "from google.colab import data_table"
      ],
      "metadata": {
        "colab": {
          "base_uri": "https://localhost:8080/"
        },
        "id": "HbtBtxM97BZA",
        "outputId": "29a153eb-4f8c-4568-e091-afaa74d3f8b5"
      },
      "execution_count": 2,
      "outputs": [
        {
          "output_type": "stream",
          "name": "stdout",
          "text": [
            "Drive already mounted at /content/drive; to attempt to forcibly remount, call drive.mount(\"/content/drive\", force_remount=True).\n"
          ]
        }
      ]
    },
    {
      "cell_type": "code",
      "execution_count": 3,
      "metadata": {
        "ExecuteTime": {
          "end_time": "2020-04-23T10:26:18.234475Z",
          "start_time": "2020-04-23T10:26:18.232003Z"
        },
        "id": "eANDZDKRV_KL"
      },
      "outputs": [],
      "source": [
        "tr_mcc_codes = pd.read_csv('/content/drive/MyDrive/tr_mcc_codes.csv', sep=';')\n",
        "tr_types = pd.read_csv(\"/content/drive/MyDrive/tr_types.csv\", sep=';')\n",
        "transactions = pd.read_csv(\"/content/drive/MyDrive/transactions.csv\", sep=',', nrows=1000000)\n",
        "gender_train = pd.read_csv(\"/content/drive/MyDrive/gender_train.csv\", sep=',')"
      ]
    },
    {
      "cell_type": "markdown",
      "metadata": {
        "id": "9u7V_MXSV_KM"
      },
      "source": [
        "#### Task 0.\n",
        "Соедините transactions с всеми остальными таблицами (tr_mcc_codes, tr_types, gender_train). Причём с customers_gender_train необходимо смёрджиться с помощью left join, а с оставшимися датафреймами - через inner.\n",
        "После получения результата таблицы gender_train, tr_types, tr_mcc_codes можно удалить. В результате соединения датафреймов должно получиться 999584 строки."
      ]
    },
    {
      "cell_type": "code",
      "execution_count": 4,
      "metadata": {
        "ExecuteTime": {
          "end_time": "2020-04-23T10:26:27.618399Z",
          "start_time": "2020-04-23T10:26:27.615930Z"
        },
        "id": "PBNHx4kjV_KM"
      },
      "outputs": [],
      "source": [
        "trans = transactions.merge(gender_train, how='left')\n",
        "trans = trans.merge(tr_mcc_codes, how='inner')\n",
        "trans = trans.merge(tr_types, how='inner')"
      ]
    },
    {
      "cell_type": "markdown",
      "metadata": {
        "id": "dSXGZPeCV_KN"
      },
      "source": [
        "#### Task 1.\n",
        "1. Определите модуль разницы между средними тратами женщин и мужчин (трата - отрицательное значение amount). (*)\n",
        "\n",
        "Выведите ответ в виде вещественного числа, округлённого до двух знаков после запятой, отделив дробную часть точкой в формате \"123.45\"\n",
        "\n",
        "##### Пояснения:\n",
        "(\\*) Если в результате для мужчин получились значения [-1,-3,-5], а для женщин [-1,-2,-3],  \n",
        "то модуль разницы между средними арифметическими -3 и -2 будет равен 1.\n",
        "\n",
        "(\\**) Обратите внимание, что для вычисления модуля разности точных знаний о том,  \n",
        "какой класc относится к мужчинам, а какой - к женщинам, пока не требуется.\n",
        "\n",
        "(\\***) Округление не нужно производить отдельно по средним тратам женщин и мужчин, а только в самом конце, когда получите значение модуля разницы трат."
      ]
    },
    {
      "cell_type": "code",
      "execution_count": 5,
      "metadata": {
        "ExecuteTime": {
          "end_time": "2020-04-23T10:35:27.760136Z",
          "start_time": "2020-04-23T10:35:27.757599Z"
        },
        "id": "bqyulD66V_KO",
        "colab": {
          "base_uri": "https://localhost:8080/"
        },
        "outputId": "c946e00c-e0c0-4e9a-cb3b-a8e7dc9d8baa"
      },
      "outputs": [
        {
          "output_type": "execute_result",
          "data": {
            "text/plain": [
              "-32718.05"
            ]
          },
          "metadata": {},
          "execution_count": 5
        }
      ],
      "source": [
        "df = trans.copy()\n",
        "round(df[(df['gender'] == 1) & (df['amount'] < 0)]['amount'].mean() - df[(df['gender'] == 0) & (df['amount'] < 0)]['amount'].mean(), 2)"
      ]
    },
    {
      "cell_type": "markdown",
      "metadata": {
        "id": "XaYFaXj6V_KP"
      },
      "source": [
        "#### Task 2:\n",
        "1. Создайте новый столбец - mcc_code+tr_type, сконкатенировав значения из соответствующих столбцов. (\\*)\n",
        "2. Оставьте только наблюдения с отрицательным значением amount. Посчитайте дисперсию по категориям получившегося столбца mcc_code+tr_type, в которых количество наблюдений >= 10. \n",
        "3. Определите отношение максимальной дисперсии к минимальной.\n",
        "\n",
        "Выведите ответ в виде вещественного числа, округлённого до ближайшего целого в формате \"123456\" без дробной части.\n",
        "\n",
        "##### Пояснения:\n",
        "(\\*) Для конкатенации значений в столбцах можно использовать метод .astype(str) для серии и складывать соответствующие серии. Либо же применять apply к строкам датафрейма, прописывая логику преобразования и конкатенации значений внутри.\n",
        "\n",
        "(\\**) Для одновременного подсчета количества наблюдений и дисперсии по категориям можно воспользоваться функцией .agg()"
      ]
    },
    {
      "cell_type": "code",
      "execution_count": 6,
      "metadata": {
        "ExecuteTime": {
          "end_time": "2020-04-23T10:35:39.478241Z",
          "start_time": "2020-04-23T10:35:39.475846Z"
        },
        "id": "Nl2JL39VV_KP",
        "colab": {
          "base_uri": "https://localhost:8080/"
        },
        "outputId": "3351a045-59f1-41c3-c5c0-5136124c73e1"
      },
      "outputs": [
        {
          "output_type": "execute_result",
          "data": {
            "text/plain": [
              "3028"
            ]
          },
          "metadata": {},
          "execution_count": 6
        }
      ],
      "source": [
        "df = trans.copy()\n",
        "df['conc'] = df['mcc_code'].astype(str) + df['tr_type'].astype(str)\n",
        "df.groupby(['conc']).amount.agg(['count', 'std']).query('count >= 10')['std'].agg(lambda x: round(max(x) / min(x)))"
      ]
    },
    {
      "cell_type": "markdown",
      "metadata": {
        "id": "erOt35-FV_KQ"
      },
      "source": [
        "#### Task 3:\n",
        "1. По всем типам транзакций рассчитайте максимальную сумму прихода на карту (из строго положительных сумм по столбцу amount) отдельно для мужчин и женщин (назовите ее \"max_income\"). Оставьте по 5 транзакций для мужчин и для женщин, наименьших среди всех транзакций по полученным значениям \"max_income\". (\\*)\n",
        "2. Выделите среди них те, которые встречаются одновременно и у мужчин, и у женщин:\n",
        "    - 1) Покупка. POS ТУ СБ РФ\t\n",
        "    - 2) Списание после проведения претензионной работы\t\n",
        "    - 3) Плата за получение наличных. Россия\t\n",
        "    - 4) Перевод на карту/ с карты через АТМ (со взиманием комиссии с отправителя) по счету в овердрафте\t\n",
        "    - 5) Плата за получение наличных в АТМ. Россия\t \n",
        "    - 6) Наличные. Зарубеж. банк\t\n",
        "    - 7) Возврат покупки. POS ТУ Россия\n",
        "\n",
        "##### Пояснения:\n",
        "(\\*) Если максимальные суммы приходов по каким-то типам были равны [1,2,3,4,5,6,7,8], то 5 минимальных из них: [1,2,3,4,5]"
      ]
    },
    {
      "cell_type": "code",
      "execution_count": 7,
      "metadata": {
        "ExecuteTime": {
          "end_time": "2020-04-23T10:36:36.494729Z",
          "start_time": "2020-04-23T10:36:36.492051Z"
        },
        "scrolled": false,
        "id": "b7NnVMLDV_KQ",
        "colab": {
          "base_uri": "https://localhost:8080/",
          "height": 502
        },
        "outputId": "fd93bcd5-48d9-42f0-d031-223bb8b85118"
      },
      "outputs": [
        {
          "output_type": "execute_result",
          "data": {
            "application/vnd.google.colaboratory.module+javascript": "\n      import \"https://ssl.gstatic.com/colaboratory/data_table/81f25a011006ed3d/data_table.js\";\n\n      window.createDataTable({\n        data: [[{\n            'v': 65368200,\n            'f': \"65368200\",\n        },\n\"249 10:04:53\",\n{\n            'v': 4829,\n            'f': \"4829\",\n        },\n{\n            'v': 4051,\n            'f': \"4051\",\n        },\n{\n            'v': 1122.96,\n            'f': \"1122.96\",\n        },\n\"10145755\",\n{\n            'v': 0.0,\n            'f': \"0.0\",\n        },\n\"\\u0414\\u0435\\u043d\\u0435\\u0436\\u043d\\u044b\\u0435 \\u043f\\u0435\\u0440\\u0435\\u0432\\u043e\\u0434\\u044b\",\n\"\\u041f\\u043b\\u0430\\u0442\\u0430 \\u0437\\u0430 \\u043f\\u0435\\u0440\\u0435\\u0432\\u043e\\u0434 \\u043d\\u0430 \\u043a\\u0430\\u0440\\u0442\\u0443 (\\u0441 \\u043a\\u0430\\u0440\\u0442\\u044b) \\u0447\\u0435\\u0440\\u0435\\u0437 \\u0410\\u0422\\u041c (\\u0438\\u0437 \\u043e\\u0434\\u043d\\u043e\\u0433\\u043e \\u0422\\u0411 \\u0432 \\u0434\\u0440\\u0443\\u0433\\u043e\\u0439 \\u0422\\u0411)\",\n{\n            'v': 1122.96,\n            'f': \"1122.96\",\n        }],\n [{\n            'v': 14808847,\n            'f': \"14808847\",\n        },\n\"56 00:00:00\",\n{\n            'v': 6011,\n            'f': \"6011\",\n        },\n{\n            'v': 4110,\n            'f': \"4110\",\n        },\n{\n            'v': 2245.92,\n            'f': \"2245.92\",\n        },\nNaN,\n{\n            'v': 0.0,\n            'f': \"0.0\",\n        },\n\"\\u0424\\u0438\\u043d\\u0430\\u043d\\u0441\\u043e\\u0432\\u044b\\u0435 \\u0438\\u043d\\u0441\\u0442\\u0438\\u0442\\u0443\\u0442\\u044b \\u2014 \\u0441\\u043d\\u044f\\u0442\\u0438\\u0435 \\u043d\\u0430\\u043b\\u0438\\u0447\\u043d\\u043e\\u0441\\u0442\\u0438 \\u0430\\u0432\\u0442\\u043e\\u043c\\u0430\\u0442\\u0438\\u0447\\u0435\\u0441\\u043a\\u0438\",\n\"\\u041f\\u043b\\u0430\\u0442\\u0430 \\u0437\\u0430 \\u043f\\u043e\\u043b\\u0443\\u0447\\u0435\\u043d\\u0438\\u0435 \\u043d\\u0430\\u043b\\u0438\\u0447\\u043d\\u044b\\u0445 \\u0432 \\u0410\\u0422\\u041c. \\u0420\\u043e\\u0441\\u0441\\u0438\\u044f\",\n{\n            'v': 2245.92,\n            'f': \"2245.92\",\n        }],\n [{\n            'v': 67193294,\n            'f': \"67193294\",\n        },\n\"381 00:00:00\",\n{\n            'v': 6011,\n            'f': \"6011\",\n        },\n{\n            'v': 4210,\n            'f': \"4210\",\n        },\n{\n            'v': 2245.92,\n            'f': \"2245.92\",\n        },\n\"ATMB19AS\",\n{\n            'v': 0.0,\n            'f': \"0.0\",\n        },\n\"\\u0424\\u0438\\u043d\\u0430\\u043d\\u0441\\u043e\\u0432\\u044b\\u0435 \\u0438\\u043d\\u0441\\u0442\\u0438\\u0442\\u0443\\u0442\\u044b \\u2014 \\u0441\\u043d\\u044f\\u0442\\u0438\\u0435 \\u043d\\u0430\\u043b\\u0438\\u0447\\u043d\\u043e\\u0441\\u0442\\u0438 \\u0430\\u0432\\u0442\\u043e\\u043c\\u0430\\u0442\\u0438\\u0447\\u0435\\u0441\\u043a\\u0438\",\n\"\\u041f\\u043b\\u0430\\u0442\\u0430 \\u0437\\u0430 \\u043f\\u043e\\u043b\\u0443\\u0447\\u0435\\u043d\\u0438\\u0435 \\u043d\\u0430\\u043b\\u0438\\u0447\\u043d\\u044b\\u0445 \\u0432 \\u0410\\u0422\\u041c. \\u0417\\u0430\\u0440\\u0443\\u0431\\u0435\\u0436.\",\n{\n            'v': 2245.92,\n            'f': \"2245.92\",\n        }],\n [{\n            'v': 44552122,\n            'f': \"44552122\",\n        },\n\"292 23:57:57\",\n{\n            'v': 4829,\n            'f': \"4829\",\n        },\n{\n            'v': 2370,\n            'f': \"2370\",\n        },\n{\n            'v': 2335.75,\n            'f': \"2335.75\",\n        },\n\"888987\",\n{\n            'v': 0.0,\n            'f': \"0.0\",\n        },\n\"\\u0414\\u0435\\u043d\\u0435\\u0436\\u043d\\u044b\\u0435 \\u043f\\u0435\\u0440\\u0435\\u0432\\u043e\\u0434\\u044b\",\n\"\\u0421\\u043f\\u0438\\u0441\\u0430\\u043d\\u0438\\u0435 \\u0441 \\u043a\\u0430\\u0440\\u0442\\u044b \\u043d\\u0430 \\u043a\\u0430\\u0440\\u0442\\u0443 \\u043f\\u043e \\u043e\\u043f\\u0435\\u0440\\u0430\\u0446\\u0438\\u0438 <\\u043f\\u0435\\u0440\\u0435\\u0432\\u043e\\u0434\\u0430 \\u0441 \\u043a\\u0430\\u0440\\u0442\\u044b \\u043d\\u0430 \\u043a\\u0430\\u0440\\u0442\\u0443> \\u0447\\u0435\\u0440\\u0435\\u0437 \\u041c\\u043e\\u0431\\u0438\\u043b\\u044c\\u043d\\u044b\\u0439 \\u0431\\u0430\\u043d\\u043a (\\u0431\\u0435\\u0437 \\u043a\\u043e\\u043c\\u0438\\u0441\\u0441\\u0438\\u0438)\",\n{\n            'v': 2335.75,\n            'f': \"2335.75\",\n        }],\n [{\n            'v': 34267056,\n            'f': \"34267056\",\n        },\n\"176 00:00:00\",\n{\n            'v': 6011,\n            'f': \"6011\",\n        },\n{\n            'v': 4100,\n            'f': \"4100\",\n        },\n{\n            'v': 5041.86,\n            'f': \"5041.86\",\n        },\nNaN,\n{\n            'v': 0.0,\n            'f': \"0.0\",\n        },\n\"\\u0424\\u0438\\u043d\\u0430\\u043d\\u0441\\u043e\\u0432\\u044b\\u0435 \\u0438\\u043d\\u0441\\u0442\\u0438\\u0442\\u0443\\u0442\\u044b \\u2014 \\u0441\\u043d\\u044f\\u0442\\u0438\\u0435 \\u043d\\u0430\\u043b\\u0438\\u0447\\u043d\\u043e\\u0441\\u0442\\u0438 \\u0430\\u0432\\u0442\\u043e\\u043c\\u0430\\u0442\\u0438\\u0447\\u0435\\u0441\\u043a\\u0438\",\n\"\\u041f\\u043b\\u0430\\u0442\\u0430 \\u0437\\u0430 \\u043f\\u043e\\u043b\\u0443\\u0447\\u0435\\u043d\\u0438\\u0435 \\u043d\\u0430\\u043b\\u0438\\u0447\\u043d\\u044b\\u0445. \\u0420\\u043e\\u0441\\u0441\\u0438\\u044f\",\n{\n            'v': 5041.86,\n            'f': \"5041.86\",\n        }],\n [{\n            'v': 99048480,\n            'f': \"99048480\",\n        },\n\"174 00:00:00\",\n{\n            'v': 6011,\n            'f': \"6011\",\n        },\n{\n            'v': 4110,\n            'f': \"4110\",\n        },\n{\n            'v': 2245.92,\n            'f': \"2245.92\",\n        },\nNaN,\n{\n            'v': 1.0,\n            'f': \"1.0\",\n        },\n\"\\u0424\\u0438\\u043d\\u0430\\u043d\\u0441\\u043e\\u0432\\u044b\\u0435 \\u0438\\u043d\\u0441\\u0442\\u0438\\u0442\\u0443\\u0442\\u044b \\u2014 \\u0441\\u043d\\u044f\\u0442\\u0438\\u0435 \\u043d\\u0430\\u043b\\u0438\\u0447\\u043d\\u043e\\u0441\\u0442\\u0438 \\u0430\\u0432\\u0442\\u043e\\u043c\\u0430\\u0442\\u0438\\u0447\\u0435\\u0441\\u043a\\u0438\",\n\"\\u041f\\u043b\\u0430\\u0442\\u0430 \\u0437\\u0430 \\u043f\\u043e\\u043b\\u0443\\u0447\\u0435\\u043d\\u0438\\u0435 \\u043d\\u0430\\u043b\\u0438\\u0447\\u043d\\u044b\\u0445 \\u0432 \\u0410\\u0422\\u041c. \\u0420\\u043e\\u0441\\u0441\\u0438\\u044f\",\n{\n            'v': 2245.92,\n            'f': \"2245.92\",\n        }],\n [{\n            'v': 46579237,\n            'f': \"46579237\",\n        },\n\"329 00:00:00\",\n{\n            'v': 6010,\n            'f': \"6010\",\n        },\n{\n            'v': 2020,\n            'f': \"2020\",\n        },\n{\n            'v': 2245.92,\n            'f': \"2245.92\",\n        },\n\"170233\",\n{\n            'v': 1.0,\n            'f': \"1.0\",\n        },\n\"\\u0424\\u0438\\u043d\\u0430\\u043d\\u0441\\u043e\\u0432\\u044b\\u0435 \\u0438\\u043d\\u0441\\u0442\\u0438\\u0442\\u0443\\u0442\\u044b \\u2014 \\u0441\\u043d\\u044f\\u0442\\u0438\\u0435 \\u043d\\u0430\\u043b\\u0438\\u0447\\u043d\\u043e\\u0441\\u0442\\u0438 \\u0432\\u0440\\u0443\\u0447\\u043d\\u0443\\u044e\",\n\"\\u0412\\u044b\\u0434\\u0430\\u0447\\u0430 \\u043d\\u0430\\u043b\\u0438\\u0447\\u043d\\u044b\\u0445 \\u0447\\u0435\\u0440\\u0435\\u0437 POS \\u0421\\u0431\\u0435\\u0440\\u0431\\u0430\\u043d\\u043a\\u0430\",\n{\n            'v': 2245.92,\n            'f': \"2245.92\",\n        }],\n [{\n            'v': 1521146,\n            'f': \"1521146\",\n        },\n\"447 00:00:00\",\n{\n            'v': 5411,\n            'f': \"5411\",\n        },\n{\n            'v': 1010,\n            'f': \"1010\",\n        },\n{\n            'v': 28803.87,\n            'f': \"28803.87\",\n        },\n\"10001267\",\n{\n            'v': 1.0,\n            'f': \"1.0\",\n        },\n\"\\u0411\\u0430\\u043a\\u0430\\u043b\\u0435\\u0439\\u043d\\u044b\\u0435 \\u043c\\u0430\\u0433\\u0430\\u0437\\u0438\\u043d\\u044b, \\u0441\\u0443\\u043f\\u0435\\u0440\\u043c\\u0430\\u0440\\u043a\\u0435\\u0442\\u044b\",\n\"\\u041f\\u043e\\u043a\\u0443\\u043f\\u043a\\u0430. POS \\u0422\\u0423 \\u0421\\u0411 \\u0420\\u0424\",\n{\n            'v': 28803.87,\n            'f': \"28803.87\",\n        }],\n [{\n            'v': 47653609,\n            'f': \"47653609\",\n        },\n\"43 00:00:00\",\n{\n            'v': 5813,\n            'f': \"5813\",\n        },\n{\n            'v': 8100,\n            'f': \"8100\",\n        },\n{\n            'v': 64682.37,\n            'f': \"64682.37\",\n        },\nNaN,\n{\n            'v': 1.0,\n            'f': \"1.0\",\n        },\n\"\\u0411\\u0430\\u0440\\u044b, \\u043a\\u043e\\u043a\\u0442\\u0435\\u0439\\u043b\\u044c-\\u0431\\u0430\\u0440\\u044b, \\u0434\\u0438\\u0441\\u043a\\u043e\\u0442\\u0435\\u043a\\u0438, \\u043d\\u043e\\u0447\\u043d\\u044b\\u0435 \\u043a\\u043b\\u0443\\u0431\\u044b \\u0438 \\u0442\\u0430\\u0432\\u0435\\u0440\\u043d\\u044b \\u2014 \\u043c\\u0435\\u0441\\u0442\\u0430 \\u043f\\u0440\\u043e\\u0434\\u0430\\u0436\\u0438 \\u0430\\u043b\\u043a\\u043e\\u0433\\u043e\\u043b\\u044c\\u043d\\u044b\\u0445 \\u043d\\u0430\\u043f\\u0438\\u0442\\u043a\\u043e\\u0432\",\n\"\\u0421\\u043f\\u0438\\u0441\\u0430\\u043d\\u0438\\u0435 \\u043f\\u043e\\u0441\\u043b\\u0435 \\u043f\\u0440\\u043e\\u0432\\u0435\\u0434\\u0435\\u043d\\u0438\\u044f \\u043f\\u0440\\u0435\\u0442\\u0435\\u043d\\u0437\\u0438\\u043e\\u043d\\u043d\\u043e\\u0439 \\u0440\\u0430\\u0431\\u043e\\u0442\\u044b\",\n{\n            'v': 64682.37,\n            'f': \"64682.37\",\n        }],\n [{\n            'v': 61024099,\n            'f': \"61024099\",\n        },\n\"214 23:39:16\",\n{\n            'v': 3000,\n            'f': \"3000\",\n        },\n{\n            'v': 6000,\n            'f': \"6000\",\n        },\n{\n            'v': 79280.83,\n            'f': \"79280.83\",\n        },\n\"290594\",\n{\n            'v': 1.0,\n            'f': \"1.0\",\n        },\n\"\\u0410\\u0432\\u0438\\u0430\\u043b\\u0438\\u043d\\u0438\\u0438, \\u0430\\u0432\\u0438\\u0430\\u043a\\u043e\\u043c\\u043f\\u0430\\u043d\\u0438\\u0438\",\n\"\\u0412\\u043e\\u0437\\u0432\\u0440\\u0430\\u0442  \\u043f\\u043e\\u043a\\u0443\\u043f\\u043a\\u0438. \\u0422\\u0423 \\u0421\\u0411 \\u0420\\u0424\",\n{\n            'v': 79280.83,\n            'f': \"79280.83\",\n        }]],\n        columns: [[\"number\", \"customer_id\"], [\"string\", \"tr_datetime\"], [\"number\", \"mcc_code\"], [\"number\", \"tr_type\"], [\"number\", \"amount\"], [\"string\", \"term_id\"], [\"number\", \"gender\"], [\"string\", \"mcc_description\"], [\"string\", \"tr_description\"], [\"number\", \"max_income\"]],\n        columnOptions: [],\n        rowsPerPage: 25,\n        helpUrl: \"https://colab.research.google.com/notebooks/data_table.ipynb\",\n        suppressOutputScrolling: true,\n        minimumWidth: undefined,\n      });\n    ",
            "text/plain": [
              "<google.colab.data_table.DataTable object>"
            ],
            "text/html": [
              "<div>\n",
              "<style scoped>\n",
              "    .dataframe tbody tr th:only-of-type {\n",
              "        vertical-align: middle;\n",
              "    }\n",
              "\n",
              "    .dataframe tbody tr th {\n",
              "        vertical-align: top;\n",
              "    }\n",
              "\n",
              "    .dataframe thead th {\n",
              "        text-align: right;\n",
              "    }\n",
              "</style>\n",
              "<table border=\"1\" class=\"dataframe\">\n",
              "  <thead>\n",
              "    <tr style=\"text-align: right;\">\n",
              "      <th></th>\n",
              "      <th>customer_id</th>\n",
              "      <th>tr_datetime</th>\n",
              "      <th>mcc_code</th>\n",
              "      <th>tr_type</th>\n",
              "      <th>amount</th>\n",
              "      <th>term_id</th>\n",
              "      <th>gender</th>\n",
              "      <th>mcc_description</th>\n",
              "      <th>tr_description</th>\n",
              "      <th>max_income</th>\n",
              "    </tr>\n",
              "  </thead>\n",
              "  <tbody>\n",
              "    <tr>\n",
              "      <th>0</th>\n",
              "      <td>65368200</td>\n",
              "      <td>249 10:04:53</td>\n",
              "      <td>4829</td>\n",
              "      <td>4051</td>\n",
              "      <td>1122.96</td>\n",
              "      <td>10145755</td>\n",
              "      <td>0.00</td>\n",
              "      <td>Денежные переводы</td>\n",
              "      <td>Плата за перевод на карту (с карты) через АТМ ...</td>\n",
              "      <td>1122.96</td>\n",
              "    </tr>\n",
              "    <tr>\n",
              "      <th>1</th>\n",
              "      <td>14808847</td>\n",
              "      <td>56 00:00:00</td>\n",
              "      <td>6011</td>\n",
              "      <td>4110</td>\n",
              "      <td>2245.92</td>\n",
              "      <td>NaN</td>\n",
              "      <td>0.00</td>\n",
              "      <td>Финансовые институты — снятие наличности автом...</td>\n",
              "      <td>Плата за получение наличных в АТМ. Россия</td>\n",
              "      <td>2245.92</td>\n",
              "    </tr>\n",
              "    <tr>\n",
              "      <th>2</th>\n",
              "      <td>67193294</td>\n",
              "      <td>381 00:00:00</td>\n",
              "      <td>6011</td>\n",
              "      <td>4210</td>\n",
              "      <td>2245.92</td>\n",
              "      <td>ATMB19AS</td>\n",
              "      <td>0.00</td>\n",
              "      <td>Финансовые институты — снятие наличности автом...</td>\n",
              "      <td>Плата за получение наличных в АТМ. Зарубеж.</td>\n",
              "      <td>2245.92</td>\n",
              "    </tr>\n",
              "    <tr>\n",
              "      <th>3</th>\n",
              "      <td>44552122</td>\n",
              "      <td>292 23:57:57</td>\n",
              "      <td>4829</td>\n",
              "      <td>2370</td>\n",
              "      <td>2335.75</td>\n",
              "      <td>888987</td>\n",
              "      <td>0.00</td>\n",
              "      <td>Денежные переводы</td>\n",
              "      <td>Списание с карты на карту по операции &lt;перевод...</td>\n",
              "      <td>2335.75</td>\n",
              "    </tr>\n",
              "    <tr>\n",
              "      <th>4</th>\n",
              "      <td>34267056</td>\n",
              "      <td>176 00:00:00</td>\n",
              "      <td>6011</td>\n",
              "      <td>4100</td>\n",
              "      <td>5041.86</td>\n",
              "      <td>NaN</td>\n",
              "      <td>0.00</td>\n",
              "      <td>Финансовые институты — снятие наличности автом...</td>\n",
              "      <td>Плата за получение наличных. Россия</td>\n",
              "      <td>5041.86</td>\n",
              "    </tr>\n",
              "    <tr>\n",
              "      <th>5</th>\n",
              "      <td>99048480</td>\n",
              "      <td>174 00:00:00</td>\n",
              "      <td>6011</td>\n",
              "      <td>4110</td>\n",
              "      <td>2245.92</td>\n",
              "      <td>NaN</td>\n",
              "      <td>1.00</td>\n",
              "      <td>Финансовые институты — снятие наличности автом...</td>\n",
              "      <td>Плата за получение наличных в АТМ. Россия</td>\n",
              "      <td>2245.92</td>\n",
              "    </tr>\n",
              "    <tr>\n",
              "      <th>6</th>\n",
              "      <td>46579237</td>\n",
              "      <td>329 00:00:00</td>\n",
              "      <td>6010</td>\n",
              "      <td>2020</td>\n",
              "      <td>2245.92</td>\n",
              "      <td>170233</td>\n",
              "      <td>1.00</td>\n",
              "      <td>Финансовые институты — снятие наличности вручную</td>\n",
              "      <td>Выдача наличных через POS Сбербанка</td>\n",
              "      <td>2245.92</td>\n",
              "    </tr>\n",
              "    <tr>\n",
              "      <th>7</th>\n",
              "      <td>1521146</td>\n",
              "      <td>447 00:00:00</td>\n",
              "      <td>5411</td>\n",
              "      <td>1010</td>\n",
              "      <td>28803.87</td>\n",
              "      <td>10001267</td>\n",
              "      <td>1.00</td>\n",
              "      <td>Бакалейные магазины, супермаркеты</td>\n",
              "      <td>Покупка. POS ТУ СБ РФ</td>\n",
              "      <td>28803.87</td>\n",
              "    </tr>\n",
              "    <tr>\n",
              "      <th>8</th>\n",
              "      <td>47653609</td>\n",
              "      <td>43 00:00:00</td>\n",
              "      <td>5813</td>\n",
              "      <td>8100</td>\n",
              "      <td>64682.37</td>\n",
              "      <td>NaN</td>\n",
              "      <td>1.00</td>\n",
              "      <td>Бары, коктейль-бары, дискотеки, ночные клубы и...</td>\n",
              "      <td>Списание после проведения претензионной работы</td>\n",
              "      <td>64682.37</td>\n",
              "    </tr>\n",
              "    <tr>\n",
              "      <th>9</th>\n",
              "      <td>61024099</td>\n",
              "      <td>214 23:39:16</td>\n",
              "      <td>3000</td>\n",
              "      <td>6000</td>\n",
              "      <td>79280.83</td>\n",
              "      <td>290594</td>\n",
              "      <td>1.00</td>\n",
              "      <td>Авиалинии, авиакомпании</td>\n",
              "      <td>Возврат  покупки. ТУ СБ РФ</td>\n",
              "      <td>79280.83</td>\n",
              "    </tr>\n",
              "  </tbody>\n",
              "</table>\n",
              "</div>"
            ]
          },
          "metadata": {},
          "execution_count": 7
        }
      ],
      "source": [
        "pd.set_option('display.float_format', '{:.2f}'.format)\n",
        "df = trans.copy()\n",
        "df = df[df['amount'] > 0]\n",
        "df = df[df['gender'].notna()]\n",
        "df['max_income'] = df.groupby(['gender', 'tr_type']).amount.transform('max')\n",
        "df_1 = df[df['gender'] == 1]\n",
        "df_1.drop_duplicates(subset='tr_type', keep='first', inplace=True)\n",
        "df1 = df_1.nsmallest(5, 'max_income')\n",
        "df_2 = df[df['gender'] == 0]\n",
        "df_2.drop_duplicates(subset='tr_type', keep='first', inplace=True)\n",
        "df2 = df_2.nsmallest(5, 'max_income')\n",
        "df2 = df2.merge(df1, how='outer')\n",
        "data_table.DataTable(df2, include_index=False)\n"
      ]
    },
    {
      "cell_type": "markdown",
      "metadata": {
        "id": "Y5HahmNOV_KQ"
      },
      "source": [
        "#### Task 4:\n",
        "1. Выделите из поля tr_datetime относительный день tr_day (первое число до точного времени). (\\*)\n",
        "2. Отфильтруйте строки таким образом, чтобы оставить только те транзакции, у которых в соответствующий относительный день tr_day количество уникальных MCC кодов при транзакциях было больше 75 (можно воспользоваться функцией nunique())\n",
        "3. Сгруппируйте полученный отфильтрованный датафрейм по MCC коду и полу, после чего, пронализировав результат, выберите верные варианты ответов ниже (\\**): \n",
        "    - 1) gender == 0 - женщины, gender == 1 - мужчины\n",
        "    - 2) gender == 1 - женщины, gender == 0 - мужчины\n",
        "    - 3) Абсолютное значение медианы с типом \"Флористика\" (расходов/приходов) у мужчин выше той же медианы у женщин\n",
        "    - 4) Абсолютное значение медианы женских трат (расходов/приходов) на ценные бумаги выше мужских\n",
        "    - 5) Абсолютное значение медианы женских трат (расходов/приходов) в категории \"Бары, коктейль-бары, дискотеки, ночные клубы и таверны — места продажи алкогольных напитков\" ниже мужских\n",
        "    \n",
        "##### Пояснения:\n",
        "(\\*) Для того, чтобы выделить всё, что стоит до первого пробела, можо использовать строковые методы для датафрейма - .str.split(), например. Либо же реализовывать логику выделения подстроки с помощью метода apply. <br>\n",
        "(\\**) Понять, какой класс к какому типу транзакций (мужские/женские) относится можно, если поизучать типичные для мужчин/женщин категории и сравнить средние/медианы расходов и/или приходов в них."
      ]
    },
    {
      "cell_type": "code",
      "execution_count": 8,
      "metadata": {
        "ExecuteTime": {
          "end_time": "2020-04-23T10:38:02.450820Z",
          "start_time": "2020-04-23T10:38:02.448354Z"
        },
        "id": "rynz7AdzV_KR"
      },
      "outputs": [],
      "source": [
        "pd.set_option('display.float_format', '{:.2f}'.format)\n",
        "df = trans.copy()\n",
        "df['tr_day'] = df['tr_datetime'].str.split(' ', expand = True,n=1)[0]\n",
        "df['tr_day'] = df['tr_day'].astype(int)"
      ]
    },
    {
      "cell_type": "code",
      "source": [
        "df['res'] = df.groupby(['tr_day', 'mcc_code'])['mcc_code'].transform('size')>75\n",
        "df = df.loc[df['res'] != False]\n",
        "groups = df.groupby(['gender', 'mcc_code'])\n"
      ],
      "metadata": {
        "id": "aKO2tC7ZdMX2"
      },
      "execution_count": 9,
      "outputs": []
    },
    {
      "cell_type": "code",
      "source": [
        "# groups.first()\n",
        "groups"
      ],
      "metadata": {
        "colab": {
          "base_uri": "https://localhost:8080/"
        },
        "id": "dQS5gcYV5akZ",
        "outputId": "21951100-aca5-444c-c950-439bd27308c5"
      },
      "execution_count": 22,
      "outputs": [
        {
          "output_type": "execute_result",
          "data": {
            "text/plain": [
              "<pandas.core.groupby.generic.DataFrameGroupBy object at 0x7f1cbdc0b750>"
            ]
          },
          "metadata": {},
          "execution_count": 22
        }
      ]
    },
    {
      "cell_type": "markdown",
      "metadata": {
        "id": "LrSozF0aV_KR"
      },
      "source": [
        "#### Task 5:\n",
        "1. Разбейте расходы (отрицательные значения сумм) на 5 бакетов amount_bucket равного объёма (с помощью pd.qcut), разбив все траты на категории 'Very High', 'High', 'Middle', 'Low', 'Very Low'. (\\*)\n",
        "2. Оставшиеся неотрицательные траты отнесите к категории 'Income'.\n",
        "(воспользуйтесь функцией .cat.add_categories('Income') для того, чтобы добавить новую категорию 'Income' к категориям 'Very High', 'High', 'Middle', 'Low', 'Very Low', а затем заполните пустые значения новой категорией).\n",
        "3. Из поля tr_datetime выделите час tr_hour, в который произошла транзакция, как первые 2 цифры до \":\". (\\**)\n",
        "3. После этого постройте сводную таблицу, значениями в которой является пол gender, индексы - tr_hour, столбцы - amount_bucket.\n",
        "4. Отрисуйте полученные результаты, передав их в функцию plot_pivot_table, расположенную ниже.\n",
        "5. Выберите верные ответы на вопросы ниже.\n",
        "\n",
        "#### Вопросы:\n",
        "    - 1) Ночные поступления денег (01-05 часов) в более чем 85% случаев являются мужскими.\n",
        "    - 2) Посмотрев на долю мужчин в поступлениях средств (Income), можно сделать вывод, что количество поступлений средств женщинам в целом больше, чем мужчинам.\n",
        "    - 3) Самые низкие траты в 3 часа ночи осуществляются в более 70% случаев женщинами.\n",
        "    - 4) Существуют особые часы в мелких тратах, когда женщины тратят намного больше мужчин (>80%)\n",
        "    - 5) Посмотрев на долю мужчин в максимальных тратах средств (Very High), можно сделать вывод, что количество высоких трат в каждый возможный час мужчин больше, чем у женщин.\n",
        "\n",
        "##### Пояснения:\n",
        "(\\*) Обратите внимание, что в категории Very High Должны оказаться максимальные по модулю отрицательные транзакции. <br>\n",
        "(\\**) Например, для строки \"0 10:23:26\" час будет равен 10, а для строки \"6 07:08:31\"- 07. Можно воспользоваться функциями str.split() или str.find() и \n",
        "функцией .apply(lambda x: x[])"
      ]
    },
    {
      "cell_type": "code",
      "execution_count": 11,
      "metadata": {
        "id": "PPZtd4IDV_KS"
      },
      "outputs": [],
      "source": [
        "def plot_pivot_table(pivot_table):\n",
        "    plt.figure(figsize=(9, 11))\n",
        "    sns.heatmap(pivot_table, cmap=\"YlGnBu\", annot=True, \n",
        "                fmt='.3g', annot_kws={\"size\": 14, \"fontsize\": 14})\n",
        "    plt.xticks(fontsize=15)\n",
        "    plt.yticks(rotation=0, fontsize=15)\n",
        "    plt.xlabel('Bucket', size=18)\n",
        "    plt.ylabel('Hour', fontsize=18)\n",
        "    plt.title('Gender analysis per bucket and hour', fontsize=20)\n",
        "    plt.show()"
      ]
    },
    {
      "cell_type": "code",
      "execution_count": 12,
      "metadata": {
        "ExecuteTime": {
          "end_time": "2020-04-23T10:39:36.365220Z",
          "start_time": "2020-04-23T10:39:36.362849Z"
        },
        "scrolled": false,
        "id": "YFlyCvFGV_KS"
      },
      "outputs": [],
      "source": [
        "# Type your code here\n"
      ]
    },
    {
      "cell_type": "markdown",
      "metadata": {
        "id": "RKfNsgKqV_KS"
      },
      "source": [
        "#### Task 6:\n",
        "1. Измените тип поля tr_day на int.\n",
        "2. Выберите из transactions все MCC коды, которые встретились в выборке более чем 60000 раз.\n",
        "3. Сгруппируйте отфильтрованный датафрейм по дню и MCC-коду, получая средние значения суммы amount.  \n",
        "4. Далее отрисуйте зависимость средних сумм (может пригодится метод unstack()) по каждому из MCC-кодов по дням.\n",
        "5. Выберите верные ответы на вопросы ниже.\n",
        "\n",
        "#### Вопросы:\n",
        "    - 1) 2 из полученных MCC-кодов связаны с финансовыми институтами\n",
        "    - 2) 2 MCC кода, связанные со снятием наличности имеют в целом разные знаки (в одном случае почти везде - траты, в другом - пополнения)\n",
        "    - 3) Бакалейные магазины обладают максимальными средними тратами среди выбранных MCC-кодов\n",
        "    - 4) Денежные переводы имеют как минимум 3 явных минимума средних\n",
        "    - 5) Категория \"Звонки с использованием телефонов, считывающих магнитную ленту\" имеет визуально очень большую дисперсию. "
      ]
    },
    {
      "cell_type": "code",
      "execution_count": 13,
      "metadata": {
        "ExecuteTime": {
          "end_time": "2020-04-23T10:40:09.383871Z",
          "start_time": "2020-04-23T10:40:09.381395Z"
        },
        "scrolled": true,
        "id": "zASHoEy9V_KS"
      },
      "outputs": [],
      "source": [
        "# Type your code here\n"
      ]
    }
  ],
  "metadata": {
    "hide_input": false,
    "kernelspec": {
      "display_name": "Python 3 (ipykernel)",
      "language": "python",
      "name": "python3"
    },
    "language_info": {
      "codemirror_mode": {
        "name": "ipython",
        "version": 3
      },
      "file_extension": ".py",
      "mimetype": "text/x-python",
      "name": "python",
      "nbconvert_exporter": "python",
      "pygments_lexer": "ipython3",
      "version": "3.7.11"
    },
    "toc": {
      "base_numbering": 1,
      "nav_menu": {},
      "number_sections": true,
      "sideBar": true,
      "skip_h1_title": false,
      "title_cell": "Table of Contents",
      "title_sidebar": "Contents",
      "toc_cell": true,
      "toc_position": {},
      "toc_section_display": true,
      "toc_window_display": false
    },
    "varInspector": {
      "cols": {
        "lenName": 16,
        "lenType": 16,
        "lenVar": 40
      },
      "kernels_config": {
        "python": {
          "delete_cmd_postfix": "",
          "delete_cmd_prefix": "del ",
          "library": "var_list.py",
          "varRefreshCmd": "print(var_dic_list())"
        },
        "r": {
          "delete_cmd_postfix": ") ",
          "delete_cmd_prefix": "rm(",
          "library": "var_list.r",
          "varRefreshCmd": "cat(var_dic_list()) "
        }
      },
      "types_to_exclude": [
        "module",
        "function",
        "builtin_function_or_method",
        "instance",
        "_Feature"
      ],
      "window_display": false
    },
    "colab": {
      "name": "Homework_2.ipynb",
      "provenance": [],
      "collapsed_sections": [],
      "include_colab_link": true
    }
  },
  "nbformat": 4,
  "nbformat_minor": 0
}