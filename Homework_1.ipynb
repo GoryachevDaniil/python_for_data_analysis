{
  "cells": [
    {
      "cell_type": "markdown",
      "metadata": {
        "id": "view-in-github",
        "colab_type": "text"
      },
      "source": [
        "<a href=\"https://colab.research.google.com/github/GoryachevDaniil/python_for_data_analysis/blob/main/Homework_1.ipynb\" target=\"_parent\"><img src=\"https://colab.research.google.com/assets/colab-badge.svg\" alt=\"Open In Colab\"/></a>"
      ]
    },
    {
      "cell_type": "markdown",
      "metadata": {
        "toc": true,
        "id": "E_Qb7R48-kT1"
      },
      "source": [
        "<h1>Table of Contents<span class=\"tocSkip\"></span></h1>\n",
        "<div class=\"toc\"><ul class=\"toc-item\"><li><span><a href=\"#-Homework-1-(Topics-1-4:-Data-Structures,-Indexing,-Cleaning-Data,-Math)\" data-toc-modified-id=\"-Homework-1-(Topics-1-4:-Data-Structures,-Indexing,-Cleaning-Data,-Math)-1\"><span class=\"toc-item-num\">1&nbsp;&nbsp;</span><center> Homework 1 (Topics 1-4: Data Structures, Indexing, Cleaning Data, Math)</center></a></span><ul class=\"toc-item\"><li><ul class=\"toc-item\"><li><ul class=\"toc-item\"><li><span><a href=\"#Task-1.\" data-toc-modified-id=\"Task-1.-1.0.0.1\"><span class=\"toc-item-num\">1.0.0.1&nbsp;&nbsp;</span>Task 1.</a></span></li><li><span><a href=\"#Варианты-ответов:\" data-toc-modified-id=\"Варианты-ответов:-1.0.0.2\"><span class=\"toc-item-num\">1.0.0.2&nbsp;&nbsp;</span>Варианты ответов:</a></span></li><li><span><a href=\"#Task-2.\" data-toc-modified-id=\"Task-2.-1.0.0.3\"><span class=\"toc-item-num\">1.0.0.3&nbsp;&nbsp;</span>Task 2.</a></span></li><li><span><a href=\"#Вопросы:\" data-toc-modified-id=\"Вопросы:-1.0.0.4\"><span class=\"toc-item-num\">1.0.0.4&nbsp;&nbsp;</span>Вопросы:</a></span></li><li><span><a href=\"#Task-3.\" data-toc-modified-id=\"Task-3.-1.0.0.5\"><span class=\"toc-item-num\">1.0.0.5&nbsp;&nbsp;</span>Task 3.</a></span></li><li><span><a href=\"#Выберите-все-верные-пункты:\" data-toc-modified-id=\"Выберите-все-верные-пункты:-1.0.0.6\"><span class=\"toc-item-num\">1.0.0.6&nbsp;&nbsp;</span>Выберите все верные пункты:</a></span></li><li><span><a href=\"#Task-4.\" data-toc-modified-id=\"Task-4.-1.0.0.7\"><span class=\"toc-item-num\">1.0.0.7&nbsp;&nbsp;</span>Task 4.</a></span></li><li><span><a href=\"#Пояснения:\" data-toc-modified-id=\"Пояснения:-1.0.0.8\"><span class=\"toc-item-num\">1.0.0.8&nbsp;&nbsp;</span>Пояснения:</a></span></li></ul></li><li><span><a href=\"#Информация-для-последующих-заданий\" data-toc-modified-id=\"Информация-для-последующих-заданий-1.0.1\"><span class=\"toc-item-num\">1.0.1&nbsp;&nbsp;</span>Информация для последующих заданий</a></span></li></ul></li><li><span><a href=\"#Описание-данных\" data-toc-modified-id=\"Описание-данных-1.1\"><span class=\"toc-item-num\">1.1&nbsp;&nbsp;</span>Описание данных</a></span><ul class=\"toc-item\"><li><span><a href=\"#Таблица-transactions.csv\" data-toc-modified-id=\"Таблица-transactions.csv-1.1.1\"><span class=\"toc-item-num\">1.1.1&nbsp;&nbsp;</span>Таблица <code>transactions.csv</code></a></span></li><li><span><a href=\"#Таблица-gender_train.csv\" data-toc-modified-id=\"Таблица-gender_train.csv-1.1.2\"><span class=\"toc-item-num\">1.1.2&nbsp;&nbsp;</span>Таблица <code>gender_train.csv</code></a></span></li><li><span><a href=\"#Таблица-tr_mcc_codes.csv\" data-toc-modified-id=\"Таблица-tr_mcc_codes.csv-1.1.3\"><span class=\"toc-item-num\">1.1.3&nbsp;&nbsp;</span>Таблица <code>tr_mcc_codes.csv</code></a></span></li><li><span><a href=\"#Таблица-tr_types.csv\" data-toc-modified-id=\"Таблица-tr_types.csv-1.1.4\"><span class=\"toc-item-num\">1.1.4&nbsp;&nbsp;</span>Таблица <code>tr_types.csv</code></a></span><ul class=\"toc-item\"><li><span><a href=\"#Task-5.\" data-toc-modified-id=\"Task-5.-1.1.4.1\"><span class=\"toc-item-num\">1.1.4.1&nbsp;&nbsp;</span>Task 5.</a></span></li><li><span><a href=\"#Task-6.\" data-toc-modified-id=\"Task-6.-1.1.4.2\"><span class=\"toc-item-num\">1.1.4.2&nbsp;&nbsp;</span>Task 6.</a></span></li><li><span><a href=\"#Выберите-все-верные-пункты:\" data-toc-modified-id=\"Выберите-все-верные-пункты:-1.1.4.3\"><span class=\"toc-item-num\">1.1.4.3&nbsp;&nbsp;</span>Выберите все верные пункты:</a></span></li><li><span><a href=\"#Task-7.\" data-toc-modified-id=\"Task-7.-1.1.4.4\"><span class=\"toc-item-num\">1.1.4.4&nbsp;&nbsp;</span>Task 7.</a></span></li><li><span><a href=\"#Выберите-все-верные-пункты:\" data-toc-modified-id=\"Выберите-все-верные-пункты:-1.1.4.5\"><span class=\"toc-item-num\">1.1.4.5&nbsp;&nbsp;</span>Выберите все верные пункты:</a></span></li><li><span><a href=\"#Task-8.\" data-toc-modified-id=\"Task-8.-1.1.4.6\"><span class=\"toc-item-num\">1.1.4.6&nbsp;&nbsp;</span>Task 8.</a></span></li></ul></li></ul></li></ul></li></ul></div>"
      ]
    },
    {
      "cell_type": "markdown",
      "metadata": {
        "id": "BSODWMcx-kT3"
      },
      "source": [
        "# <center> Homework 1 (Topics 1-4: Data Structures, Indexing, Cleaning Data, Math)"
      ]
    },
    {
      "cell_type": "code",
      "execution_count": null,
      "metadata": {
        "ExecuteTime": {
          "end_time": "2020-04-23T10:16:05.965275Z",
          "start_time": "2020-04-23T10:16:05.312704Z"
        },
        "id": "WfFJIWiN-kT4"
      },
      "outputs": [],
      "source": [
        "import pandas as pd\n",
        "import numpy as np"
      ]
    },
    {
      "cell_type": "markdown",
      "metadata": {
        "id": "VPX0hDJI-kT5"
      },
      "source": [
        "#### Task 1. \n",
        "Задание:\n",
        "\n",
        "1. Создайте Series из последовательности 15 значений, равномерно разбивающих отрезок [0, 20] (воспользуйтесь функцией linspace)\n",
        "2. Определите отношение элементов полученной серии к их предыдущим элементам (\\*). \n",
        "3. В результате необходимо получить среднее полученного вектора, оставив в нём только те значения, которые не более чем 1.5 (\\**). \n",
        "\n",
        "Выберите из ответов тот, который максимально близок к полученному (c точки зрения абсолютной разницы).\n",
        "\n",
        "#### Варианты ответов:\n",
        "    - 1) 1.24\n",
        "    - 2) 1.18 \n",
        "    - 3) 0.71\n",
        "    - 4) 1.13\n",
        "\n",
        "\n",
        "##### Пояснения:\n",
        "(\\*) Если было бы необходимо найти последовательность из 3-х значений,  \n",
        "равномерно разбивающих отрезок [0,1], то это были бы значения [0, 0.5, 1]. \n",
        "\n",
        "(\\**) Если был бы дан список элементов a = [1,2,3,12], отношения элементов к предыдущим будут равны [NaN, 2, 1.5, 4].  \n",
        "А на последнем этапе в таком примере останется только [1.5] и среднее значение будет также 1.5."
      ]
    },
    {
      "cell_type": "code",
      "execution_count": 101,
      "metadata": {
        "ExecuteTime": {
          "end_time": "2020-04-23T10:13:26.017568Z",
          "start_time": "2020-04-23T10:13:26.014793Z"
        },
        "colab": {
          "base_uri": "https://localhost:8080/"
        },
        "id": "a8j4Jzih-kT5",
        "outputId": "7a7c930e-24e6-4896-bec7-04c7adb7b0c1"
      },
      "outputs": [
        {
          "output_type": "stream",
          "name": "stdout",
          "text": [
            "s1 =  0    abcde\n",
            "dtype: object\n",
            "s2 =  0    abcde\n",
            "dtype: object\n",
            "s3 =  0    a\n",
            "1    b\n",
            "2    c\n",
            "3    d\n",
            "4    e\n",
            "dtype: object\n",
            "s4 =  0    abcde\n",
            "dtype: object\n"
          ]
        }
      ],
      "source": [
        "s = np.linspace(0, 20, 15)\n",
        "s1 = []\n",
        "for i in range(1, len(s)):\n",
        "  # print(s[i])\n",
        "  if i < 2:\n",
        "    s1.append(np.nan)\n",
        "  else:\n",
        "    s1.append(s[i]/s[i-1])\n",
        "sum = 0\n",
        "for i in range(1, len(s1)):\n",
        "  if s1[i] != np.nan:\n",
        "    sum += s1[i]\n",
        "print(sum/len(s1))\n",
        "\n",
        "# task 1 - 2\n",
        "\n",
        "# task 2 - 1\n",
        "\n",
        "# s1 = pd.Series('abcde')\n",
        "# s2 = pd.Series(['abcde'])\n",
        "# s3 = pd.Series(list('abcde'))\n",
        "# s4 = pd.Series(\"abcde\")\n",
        "# print(f\"s1 =  {s1}\")\n",
        "# print(f\"s2 =  {s2}\")\n",
        "# print(f\"s3 =  {s3}\")\n",
        "# print(f\"s4 =  {s4}\")\n"
      ]
    },
    {
      "cell_type": "markdown",
      "metadata": {
        "id": "WIlSuBa6-kT5"
      },
      "source": [
        "#### Task 2. \n",
        "Выберите все верные ответы касательно следующих 3-х Series:\n",
        "    - pd.Series('abcde'); (1) \n",
        "    - pd.Series(['abcde']); (2) \n",
        "    - pd.Series(list('abcde')); (3)\n",
        "    - pd.Series(\"abcde\"); (4)\n",
        "    \n",
        "##### Пояснения:\n",
        "(\\*)\n",
        "- функция list: в строке каждый символ - это отдельный элемент для list\n",
        "- квадратные скобки: в квадратных скобках списку передается множество элементов по отдельности через запятую\n",
        "\n",
        "\n",
        "#### Вопросы:\n",
        "    - 1) Серия (1) совпадает с серией (2), так как в каждом из случаев серия создаётся из списка строк\n",
        "    - 2) Серия (2) совпадает с серией (3), так как в каждом из случаев серия создаётся из списка символов \n",
        "    - 3) Серия (1) не совпадает с серией (4), так как в (4) используются двойные кавычки \"\" вместо одинарных '' "
      ]
    },
    {
      "cell_type": "markdown",
      "metadata": {
        "id": "YPapT-_D-kT5"
      },
      "source": [
        "#### Task 3. \n",
        "\n",
        "По клиенту получены зашумленные данные (объект s типа Series) по его транзакциям. \n",
        "\n",
        "Для заданного ниже объекта s проделайте следующее:\n",
        "1. Создайте новый Series, значения которого совпадают со значениями s, а индексы - целочисленные значения от 2 до 12, не включая 12. \n",
        "2. Выберите из s элементы с индексами 3 и 5, после чего просуммируйте их, сохранив результат (1). \n",
        "3. Выберите из s только целочисленные элементы и вычислите их дисперсию (2). (\\*)\n",
        "\n",
        "Все полученные результаты округлите до 2-х знаков после запятой.\n",
        "\n",
        "#### Выберите все верные пункты:\n",
        "    - 1) Ответ (1) - 642.52\n",
        "    - 2) Ответ (1) - 91.78\n",
        "    - 3) Ответ (1) - не может быть определён\n",
        "    - 4) Ответ (2) - 57591.19\n",
        "    - 5) Ответ (2) - 210.12\n",
        "    - 6) Ответ (2) - не может быть определён\n",
        "\n",
        "##### Пояснения:\n",
        "(\\*) Целочисленные значения - значения, имеющие тип int.\n",
        "- Дисперсия рассчитывается с помощью функции из библиотеки numpy: np.var( , ddof=0) или встроенной в python функции: .var(ddof=1)"
      ]
    },
    {
      "cell_type": "code",
      "execution_count": null,
      "metadata": {
        "ExecuteTime": {
          "end_time": "2020-04-23T10:17:18.795695Z",
          "start_time": "2020-04-23T10:17:18.791449Z"
        },
        "id": "aAlPwnXh-kT6",
        "colab": {
          "base_uri": "https://localhost:8080/"
        },
        "outputId": "4a20134b-882d-4b2e-8786-f8f9d890c67c"
      },
      "outputs": [
        {
          "output_type": "execute_result",
          "data": {
            "text/plain": [
              "57591.1875"
            ]
          },
          "metadata": {},
          "execution_count": 46
        }
      ],
      "source": [
        "s = pd.Series(data=['1', 2, 3.1, 'hi!', 5, -512, 12.42, 'sber', 10.10, 98], \n",
        "              index=range(6, 26, 2))\n",
        "### Type your code here\n",
        "s2 = pd.Series(data=['1', 2, 3.1, 'hi!', 5, -512, 12.42, 'sber', 10.10, 98], \n",
        "              index=range(2,12))\n",
        "# task 3.1 - 3\n",
        "s3 = pd.Series([2, 5, -512, 98])\n",
        "res = np.var(s3)\n",
        "res\n",
        "# task 3.2 - 4"
      ]
    },
    {
      "cell_type": "markdown",
      "metadata": {
        "id": "Kc_9OP7a-kT6"
      },
      "source": [
        "#### Task 4. \n",
        "1. Сгенерируйте Series из 100 значений нормально распределённой СВ (np.random.normal с дефолтными параметрами - нулевым средним и единичной дисперсией).\n",
        "2. Возведите каждое значение серии в 3 степень, а значения индекса увеличьте в 3 раза. \n",
        "3. Ответьте на следующие вопросы через запятую (без пробелов) (\\*)\n",
        "    - 1) Выведите сумму элементов, строго меньших 2.6, имеющих нечётные значения индекса. \n",
        "    - 2) Выведите количество значений серии меньше нуля.\n",
        "\n",
        "#### Пояснения:\n",
        "(\\*) Если получились ответы 3, 4.32, то в форму необходимо внести их в виде \"3,4.32\". То есть вещественные числа необходимо разделять точками. Не забудьте про фиксированный seed (его менять не нужно)!\n",
        " - Определенное значение seed нужно, чтобы ответы у всех выполняющих\n",
        "это задание были одинаковые и их можно было проверить (так как генерируются\n",
        "одинаковые series).\n",
        " - Следует внимательнее использовать [ ] для выбора данных по нескольким условиям:\n",
        "либо выбирать данные последовательно, либо сразу по нескольким условиям,\n",
        "но через оператор &. Отличие оператора and от оператора &: and - выводит\n",
        "последнее проверенное значение, & - выводит пересечение значений.\n",
        "Пример: s[ _  &  _ ].sum() "
      ]
    },
    {
      "cell_type": "code",
      "execution_count": 102,
      "metadata": {
        "ExecuteTime": {
          "end_time": "2020-04-23T10:18:35.713300Z",
          "start_time": "2020-04-23T10:18:35.710616Z"
        },
        "id": "817uZGuT-kT6",
        "colab": {
          "base_uri": "https://localhost:8080/"
        },
        "outputId": "dde14481-07b0-4fcb-b16b-cd19040460e4"
      },
      "outputs": [
        {
          "output_type": "stream",
          "name": "stdout",
          "text": [
            "-15.150748101821671,51\n"
          ]
        }
      ],
      "source": [
        "np.random.seed(242)\n",
        "### Type your code here\n",
        "s = np.random.normal(size = 100)\n",
        "d = dict()\n",
        "count = 0\n",
        "sum = 0 \n",
        "for i in range(100):\n",
        "  d[i*3] = s[i]**3\n",
        "for i in d:\n",
        "  if d[i] < 0:\n",
        "    count += 1\n",
        "  if d[i] < 2.6 and i % 2 != 0:\n",
        "    sum += d[i]\n",
        "print(sum, count, sep=',')\n"
      ]
    },
    {
      "cell_type": "markdown",
      "metadata": {
        "id": "U1YX4tmI-kT6"
      },
      "source": [
        "### Информация для последующих заданий\n",
        "- Для всех последующих заданий будем использовать обезличенные транзакционные банковские данные. Для этого считайте в переменные tr_mcc_codes, tr_types, transactions и gender_train из одноимённых таблиц из папки data. Для таблицы transactions используйте только первые n=1000000 строк. Обратите внимание на разделители внутри каждого из файлов - они могут различаться!"
      ]
    },
    {
      "cell_type": "code",
      "execution_count": null,
      "metadata": {
        "ExecuteTime": {
          "end_time": "2020-04-23T10:19:13.080203Z",
          "start_time": "2020-04-23T10:19:13.077711Z"
        },
        "id": "wGD9wAKh-kT7",
        "colab": {
          "base_uri": "https://localhost:8080/"
        },
        "outputId": "eb167f6d-dd48-43c8-ba35-402af8e8504f"
      },
      "outputs": [
        {
          "output_type": "stream",
          "name": "stdout",
          "text": [
            "Drive already mounted at /content/gdrive; to attempt to forcibly remount, call drive.mount(\"/content/gdrive\", force_remount=True).\n"
          ]
        }
      ],
      "source": [
        "from google.colab import drive\n",
        "drive.mount('/content/gdrive')\n",
        "tr_mcc_codes = pd.read_csv('/content/gdrive/My Drive/tr_mcc_codes.csv', sep=';')\n",
        "tr_types = pd.read_csv(\"/content/gdrive/My Drive/tr_types.csv\", sep=';')\n",
        "transactions = pd.read_csv(\"/content/gdrive/My Drive/transactions.csv\", sep=',', nrows=1000000)\n",
        "gender_train = pd.read_csv(\"/content/gdrive/My Drive/gender_train.csv\", sep=',')\n",
        "# tr_mcc_codes\n",
        "# tr_types\n",
        "# transactions.sample(10)\n",
        "# gender_train"
      ]
    },
    {
      "cell_type": "markdown",
      "metadata": {
        "id": "7ovITzo0-kT7"
      },
      "source": [
        "## Описание данных\n",
        "### Таблица ```transactions.csv```\n",
        "##### Описание\n",
        "Таблица содержит историю транзакций клиентов банка за один год и три месяца.\n",
        "\n",
        "##### Формат данных\n",
        "\n",
        "```\n",
        "customer_id,tr_datetime,mcc_code,tr_type,amount,term_id\n",
        "111111,15 01:40:52,1111,1000,-5224,111111\n",
        "111112,15 15:18:32,3333,2000,-100,11122233\n",
        "...\n",
        "```\n",
        "##### Описание полей\n",
        "\n",
        " - ```customer_id``` — идентификатор клиента;\n",
        " - ```tr_datetime``` — день и время совершения транзакции (дни нумеруются с начала данных);\n",
        " - ```mcc_code``` — mcc-код транзакции;\n",
        " - ```tr_type``` — тип транзакции;\n",
        " - ```amount``` — сумма транзакции в условных единицах со знаком; ```+``` — начисление средств клиенту (приходная транзакция), ```-``` — списание средств (расходная транзакция);\n",
        " - ```term_id``` — идентификатор терминала;\n",
        "\n",
        "\n",
        "### Таблица ```gender_train.csv```\n",
        "\n",
        "##### Описание\n",
        "Данная таблица содержит информацию по полу для части клиентов, для которых он известен. Для остальных клиентов пол неизвестен.\n",
        "\n",
        "##### Формат данных\n",
        "```\n",
        "customer_id,gender\n",
        "111111,0\n",
        "111112,1\n",
        "...\n",
        "```\n",
        "\n",
        "##### Описание полей\n",
        " - ```customer_id``` — идентификатор клиента;\n",
        " - ```gender``` — пол клиента;\n",
        "\n",
        "### Таблица ```tr_mcc_codes.csv```\n",
        "\n",
        "##### Описание\n",
        "Данная таблица содержит описание mcc-кодов транзакций.\n",
        "\n",
        "##### Формат данных\n",
        "```\n",
        "mcc_code;mcc_description\n",
        "1000;словесное описание mcc-кода 1000\n",
        "2000;словесное описание mcc-кода 2000\n",
        "...\n",
        "```\n",
        "\n",
        "##### Описание полей\n",
        " - ```mcc_code``` – mcc-код транзакции;\n",
        " - ```mcc_description``` — описание mcc-кода транзакции.\n",
        "\n",
        "### Таблица ```tr_types.csv```\n",
        "\n",
        "##### Описание\n",
        "Данная таблица содержит описание типов транзакций.\n",
        "\n",
        "##### Формат данных\n",
        "```\n",
        "tr_type;tr_description\n",
        "1000;словесное описание типа транзакции 1000\n",
        "2000;словесное описание типа транзакции 2000\n",
        "...\n",
        "```\n",
        "\n",
        "##### Описание полей\n",
        " - ```tr_type``` – тип транзакции;\n",
        " - ```tr_description``` — описание типа транзакции;"
      ]
    },
    {
      "cell_type": "markdown",
      "metadata": {
        "id": "o1UOlsV7-kT7"
      },
      "source": [
        "#### Task 5.\n",
        "1. В tr_types выберите произвольные 100 строк с помощью метода sample (указав при этом random_seed равный 242)\n",
        "2. В полученной на предыдущем этапе подвыборке найдите долю наблюдений (стобец tr_description), в которой содержится подстрока 'плата' (в любом регистре). (\\*)\n",
        "\n",
        "Выведите ответ в виде вещественного числа, округлённого до двух знаков после запятой, отделив дробную часть точкой в формате \"123.45\"\n",
        "\n",
        "##### Пояснения:\n",
        "(\\*) Строки \"ПлатА за аренду\", \"ПлатАза аренду\", \"ПЛАТА\" удовлетворяют условию, так как будучи переведёнными в нижний регистр содержат подстроку \"плата\"."
      ]
    },
    {
      "cell_type": "code",
      "execution_count": 105,
      "metadata": {
        "ExecuteTime": {
          "end_time": "2020-04-23T10:19:45.872766Z",
          "start_time": "2020-04-23T10:19:45.870317Z"
        },
        "scrolled": true,
        "id": "V60KbSRS-kT7",
        "colab": {
          "base_uri": "https://localhost:8080/"
        },
        "outputId": "d8c21f12-235f-4981-9968-f60805a8cc22"
      },
      "outputs": [
        {
          "output_type": "stream",
          "name": "stdout",
          "text": [
            "Плата за получение наличных в Сбербанке (в других ТБ)\n",
            "Плата за получение наличных в АТМ Сбербанка\n",
            "Плата за перевод на карту (с карты) через POS (в пределах одного тер.банка)\n",
            "Плата за превыш.лимита\n",
            "Плата за предоставление по запросу клиента документов по операции с картой\n",
            "Плата за обработку счета банковской карты клиента при осущ. платежной системой экстренной выдачи наличных денежных средств\n",
            "Оплата услуг банка по поручению автомат.\n",
            "Плата за получение наличных через POS в Сбербанке\n",
            "Плата за получение наличных через POS в Сбербанке (в других ТБ)\n",
            "Плата за предоставление отчета по счету карты почтой\n",
            "Плата за перевод на карту (с карты) через АТМ (в пределах одного филиала)\n",
            "Плата за приост. действия карты\n",
            "Плата за взнос наличных через АТМ (в другом тер.банке)\n",
            "Плата за предоставление услуг посредством мобильной связи\n",
            "Плата за обслуживание банковской карты (за первый год)\n",
            "Оплата услуг банка через ВСП\n",
            "Плата за перевод на карту (с карты) через АТМ (из одного ТБ в другой ТБ)\n",
            "Плата за получение наличных. Зарубеж.\n",
            "Плата за перевод на карту (с карты) через POS (из одного ТБ в другой ТБ)\n",
            "Плата за взнос наличных через АТМ (в своем тер.банке)\n",
            "Плата за получение через АТМ выписки о 10 последних операциях по карте\n",
            "Плата за перевод на карту (с карты) через Мобильный банк\n",
            "Плата за перевод на карту (с карты) через POS (в пределах одного филиала)\n",
            "Плата за взнос наличных через POS (в другом тер.банке)\n",
            "Плата за получение наличных. Россия\n",
            "Плата за получение наличных в АТМ Сбербанка (в других ТБ)\n",
            "0.26\n"
          ]
        }
      ],
      "source": [
        "np.random.seed(242)\n",
        "test = pd.Series(tr_types['tr_description'].sample(100))\n",
        "count = 0\n",
        "for i in range(len(test.values)):\n",
        "  if 'плата' in test.values[i].lower():\n",
        "    print(test.values[i])\n",
        "    count += 1\n",
        "print(count/100)"
      ]
    },
    {
      "cell_type": "markdown",
      "metadata": {
        "id": "xnQg3H7s-kT8"
      },
      "source": [
        "#### Task 6. \n",
        "1. Для поля tr_type датафрейма transactions посчитайте частоту встречаемости всех типов транзакций tr_type в transactions.\n",
        "2. Из перечисленных вариантов выберите те, которые попали в топ-5 транзакций по частоте встречаемости.\n",
        "\n",
        "#### Выберите все верные пункты:\n",
        "    - 1) Выдача наличных в АТМ Сбербанк России\n",
        "    - 2) Комиссия за обслуживание ссудного счета\n",
        "    - 3) Списание по требованию\t\n",
        "    - 4) Оплата услуги. Банкоматы СБ РФ\n",
        "    - 5) Погашение кредита (в пределах одного филиала)\n",
        "    - 6) Покупка. POS ТУ СБ РФ"
      ]
    },
    {
      "cell_type": "code",
      "execution_count": null,
      "metadata": {
        "ExecuteTime": {
          "end_time": "2020-04-23T10:20:31.273965Z",
          "start_time": "2020-04-23T10:20:31.271483Z"
        },
        "id": "PY251iUg-kT8",
        "colab": {
          "base_uri": "https://localhost:8080/"
        },
        "outputId": "5907fe3d-0377-41ec-bc8c-0b77b8050b45"
      },
      "outputs": [
        {
          "output_type": "execute_result",
          "data": {
            "text/plain": [
              "tr_type\n",
              "1010                                Покупка. POS ТУ СБ РФ\n",
              "2010                Выдача наличных в АТМ Сбербанк России\n",
              "7070    Перевод на карту (с карты) через Мобильный бан...\n",
              "1110                               Покупка. POS ТУ Россия\n",
              "1030                       Оплата услуги. Банкоматы СБ РФ\n",
              "dtype: object"
            ]
          },
          "metadata": {},
          "execution_count": 7
        }
      ],
      "source": [
        "### Type your code here\n",
        "from collections import Counter\n",
        "types = []\n",
        "for i in range(len(transactions)):\n",
        "  types.append(transactions[\"tr_type\"].values[i])\n",
        "c = Counter(types)\n",
        "s = pd.Series(list(c.values()), index=c.keys())\n",
        "s1 = s.sort_values(ascending=False).head(5)\n",
        "l = list(s1.keys().astype(int))\n",
        "test1 = pd.Series(list(tr_types['tr_description']), index=tr_types['tr_type'])\n",
        "test1.loc[l]"
      ]
    },
    {
      "cell_type": "markdown",
      "metadata": {
        "id": "ljO1s23K-kT8"
      },
      "source": [
        "#### Task 7.\n",
        "1. В датафрейме transactions задайте столбец  customer_id в качестве индекса.\n",
        "2. Выделите клиента с максимальной суммой транзакции (то есть с максимальным приходом на карту). (\\*)\n",
        "3. Найдите у него наиболее часто встречающийся модуль суммы приходов/расходов. (\\**)\n",
        "\n",
        "\n",
        "#### Выберите все верные пункты:\n",
        "    - 1) 1122957.89\n",
        "    - 2) 15721.41\n",
        "    - 3) 22459.16\n",
        "    - 4) 13475494.63\n",
        "    - 5) 107407.78\n",
        "    - 6) 65019.26\n",
        "\n",
        "##### Пояснения:\n",
        "(\\*) Если у клиента были транзакции [-10000, 10, 0, -10], то максимумом будет являться значение 10. <br>\n",
        "(\\**) Если у клиента были транзакции [-10000, 10, 0, -10], то наиболее встречающийся модуль суммы транзакций равен 10, и встретился он 2 раза."
      ]
    },
    {
      "cell_type": "code",
      "execution_count": null,
      "metadata": {
        "ExecuteTime": {
          "end_time": "2020-04-23T10:20:53.265495Z",
          "start_time": "2020-04-23T10:20:53.263208Z"
        },
        "scrolled": true,
        "id": "T3lnpmn8-kT8",
        "colab": {
          "base_uri": "https://localhost:8080/"
        },
        "outputId": "4a01bd2a-e61c-464a-e6dd-00d4e76f9125"
      },
      "outputs": [
        {
          "output_type": "execute_result",
          "data": {
            "text/plain": [
              "22459.16      25\n",
              "15721.41      12\n",
              "4491831.54     7\n",
              "1122957.89     6\n",
              "3368873.66     5\n",
              "dtype: int64"
            ]
          },
          "metadata": {},
          "execution_count": 9
        }
      ],
      "source": [
        "### Type your code here\n",
        "from collections import Counter\n",
        "df = transactions.copy()\n",
        "df = df.set_index('customer_id')\n",
        "test = df['amount']\n",
        "test = test.sort_values(ascending=False).astype(int)\n",
        "client = test.keys()[0]\n",
        "df2 = df.loc[client].copy()\n",
        "amt = []\n",
        "for i in range(len(df2)):\n",
        "  amt.append(abs(df2[\"amount\"].values[i]))\n",
        "c = Counter(amt)\n",
        "s = pd.Series(list(c.values()), index=c.keys())\n",
        "s1 = s.sort_values(ascending=False).head(5)\n",
        "s1"
      ]
    },
    {
      "cell_type": "markdown",
      "metadata": {
        "id": "GxUqmcNt-kT8"
      },
      "source": [
        "#### Task 8.\n",
        "1. Найдите максимальную разницу между медианами суммы транзакций, посчитанными при заданных ниже условиях по полю amount из таблицы transactions (\\*):\n",
        "    - Медиана суммы транзакций\n",
        "    - Медиана суммы транзакций по тем строкам, которые ни в одном из своих столбцов не содержат пустые значения\n",
        "    - Медиана суммы транзакций по строкам, отсортированным по полю amount в порядке возрастания, и из которых удалены дублирующиеся по столбцам [mcc_code, tr_type] строки, причём при удалении соответстующих дублей остаются только последние из дублирующихся строк (keep='last')\n",
        "\n",
        "Выведите ответ в виде вещественного числа, округлённого до двух знаков после запятой, отделив дробную часть точкой в формате \"123.45\"\n",
        "\n",
        "##### Пояснения:\n",
        "(\\*) Для вычисления максимальной разницы между значениями списка можно использовать функцию np.ptp  \n",
        "(\\**) Если в результате получились значения [1,3,5], то макимальная разница между ними 4 == 5-1."
      ]
    },
    {
      "cell_type": "code",
      "execution_count": 125,
      "metadata": {
        "ExecuteTime": {
          "end_time": "2020-04-23T10:21:36.645933Z",
          "start_time": "2020-04-23T10:21:36.643612Z"
        },
        "scrolled": true,
        "id": "IdZxCdHf-kT9",
        "colab": {
          "base_uri": "https://localhost:8080/"
        },
        "outputId": "4160f750-1ec3-4905-f2b3-7f33615aebe8"
      },
      "outputs": [
        {
          "output_type": "execute_result",
          "data": {
            "text/plain": [
              "1212379.25"
            ]
          },
          "metadata": {},
          "execution_count": 125
        }
      ],
      "source": [
        "### Type your code here\n",
        "df = transactions.copy()\n",
        "i1 = df['amount'].median() #1\n",
        "df2 = transactions.copy()\n",
        "df2 = df2.dropna()\n",
        "i2 = df2['amount'].median(axis=0) #2\n",
        "df3 = transactions.copy()\n",
        "df3 = df3.sort_values(by='amount')\n",
        "df3['mcc_code'] = df3['mcc_code'].drop_duplicates(keep='last')\n",
        "df3['tr_type'] = df3['tr_type'].drop_duplicates(keep='last')\n",
        "df3.dropna(subset=['tr_type'], inplace=True)\n",
        "df3.dropna(subset=['mcc_code'], inplace=True)\n",
        "i3 = df3['amount'].median(axis=0)\n",
        "np.ptp([i1, i2, i3])"
      ]
    }
  ],
  "metadata": {
    "hide_input": false,
    "kernelspec": {
      "display_name": "Python 3 (ipykernel)",
      "language": "python",
      "name": "python3"
    },
    "language_info": {
      "codemirror_mode": {
        "name": "ipython",
        "version": 3
      },
      "file_extension": ".py",
      "mimetype": "text/x-python",
      "name": "python",
      "nbconvert_exporter": "python",
      "pygments_lexer": "ipython3",
      "version": "3.7.11"
    },
    "toc": {
      "base_numbering": 1,
      "nav_menu": {},
      "number_sections": true,
      "sideBar": true,
      "skip_h1_title": false,
      "title_cell": "Table of Contents",
      "title_sidebar": "Contents",
      "toc_cell": true,
      "toc_position": {},
      "toc_section_display": true,
      "toc_window_display": false
    },
    "varInspector": {
      "cols": {
        "lenName": 16,
        "lenType": 16,
        "lenVar": 40
      },
      "kernels_config": {
        "python": {
          "delete_cmd_postfix": "",
          "delete_cmd_prefix": "del ",
          "library": "var_list.py",
          "varRefreshCmd": "print(var_dic_list())"
        },
        "r": {
          "delete_cmd_postfix": ") ",
          "delete_cmd_prefix": "rm(",
          "library": "var_list.r",
          "varRefreshCmd": "cat(var_dic_list()) "
        }
      },
      "types_to_exclude": [
        "module",
        "function",
        "builtin_function_or_method",
        "instance",
        "_Feature"
      ],
      "window_display": false
    },
    "colab": {
      "name": "Homework_1.ipynb",
      "provenance": [],
      "collapsed_sections": [],
      "include_colab_link": true
    }
  },
  "nbformat": 4,
  "nbformat_minor": 0
}